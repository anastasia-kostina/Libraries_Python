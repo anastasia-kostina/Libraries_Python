{
 "cells": [
  {
   "cell_type": "code",
   "execution_count": 1,
   "id": "b0fd889c",
   "metadata": {},
   "outputs": [],
   "source": [
    "#Задание 1\n",
    "import numpy as np"
   ]
  },
  {
   "cell_type": "code",
   "execution_count": 3,
   "id": "816ebe71",
   "metadata": {},
   "outputs": [
    {
     "name": "stdout",
     "output_type": "stream",
     "text": [
      "Форма a: (5, 2)\n"
     ]
    }
   ],
   "source": [
    "a = np.array([[1, 6], \n",
    "              [2, 8], \n",
    "              [3, 11],\n",
    "              [3,10],\n",
    "              [1,7]])\n",
    "print(\"Форма a: {}\".format(a.shape))"
   ]
  },
  {
   "cell_type": "code",
   "execution_count": 5,
   "id": "59442432",
   "metadata": {},
   "outputs": [
    {
     "name": "stdout",
     "output_type": "stream",
     "text": [
      "Средние значения по признаку: [2.  8.4]\n"
     ]
    }
   ],
   "source": [
    "mean_a = a.mean(axis=0)\n",
    "print(\"Средние значения по признаку: {}\".format(mean_a))"
   ]
  },
  {
   "cell_type": "code",
   "execution_count": 6,
   "id": "2fd5044b",
   "metadata": {},
   "outputs": [],
   "source": [
    "#Задание 2"
   ]
  },
  {
   "cell_type": "code",
   "execution_count": 9,
   "id": "0f61c3b7",
   "metadata": {},
   "outputs": [
    {
     "name": "stdout",
     "output_type": "stream",
     "text": [
      "[[-1.  -2.4]\n",
      " [ 0.  -0.4]\n",
      " [ 1.   2.6]\n",
      " [ 1.   1.6]\n",
      " [-1.  -1.4]]\n",
      "Форма a_centered: (5, 2)\n"
     ]
    }
   ],
   "source": [
    "a_centered = a - mean_a\n",
    "print(a_centered)\n",
    "print(\"Форма a_centered: {}\".format(a_centered.shape))"
   ]
  },
  {
   "cell_type": "code",
   "execution_count": 10,
   "id": "e95518af",
   "metadata": {},
   "outputs": [],
   "source": [
    "#Задание 3"
   ]
  },
  {
   "cell_type": "code",
   "execution_count": 20,
   "id": "3bc076d0",
   "metadata": {},
   "outputs": [
    {
     "name": "stdout",
     "output_type": "stream",
     "text": [
      "Скалярное произведение столбцов: 8.0\n",
      "Ковариация признаков: 2.0\n"
     ]
    }
   ],
   "source": [
    "a_centered_sp = a_centered[:,0].dot(a_centered[:,1])\n",
    "print(\"Скалярное произведение столбцов: {}\".format(a_centered_sp))\n",
    "N = a.shape[0]\n",
    "a_centered_sp = a_centered_sp/(N-1)\n",
    "print(\"Ковариация признаков: {}\".format(a_centered_sp))"
   ]
  },
  {
   "cell_type": "code",
   "execution_count": 21,
   "id": "63783d43",
   "metadata": {},
   "outputs": [],
   "source": [
    "#Задание 4"
   ]
  },
  {
   "cell_type": "code",
   "execution_count": 26,
   "id": "345572f9",
   "metadata": {},
   "outputs": [
    {
     "name": "stdout",
     "output_type": "stream",
     "text": [
      "[[ 1  2  3  3  1]\n",
      " [ 6  8 11 10  7]]\n",
      "Ковариация признаков: 2.0\n"
     ]
    }
   ],
   "source": [
    "a_t = a.T\n",
    "print(a_t)\n",
    "at_cov2 = np.cov(a_t)\n",
    "cov2 = at_cov2[0,1]\n",
    "print(\"Ковариация признаков: {}\".format(cov2))"
   ]
  },
  {
   "cell_type": "code",
   "execution_count": null,
   "id": "6a996822",
   "metadata": {},
   "outputs": [],
   "source": []
  },
  {
   "cell_type": "code",
   "execution_count": null,
   "id": "78c6feaa",
   "metadata": {},
   "outputs": [],
   "source": []
  }
 ],
 "metadata": {
  "kernelspec": {
   "display_name": "Python 3",
   "language": "python",
   "name": "python3"
  },
  "language_info": {
   "codemirror_mode": {
    "name": "ipython",
    "version": 3
   },
   "file_extension": ".py",
   "mimetype": "text/x-python",
   "name": "python",
   "nbconvert_exporter": "python",
   "pygments_lexer": "ipython3",
   "version": "3.8.8"
  }
 },
 "nbformat": 4,
 "nbformat_minor": 5
}
