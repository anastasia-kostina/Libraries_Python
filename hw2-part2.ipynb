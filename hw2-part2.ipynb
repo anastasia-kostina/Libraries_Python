{
 "cells": [
  {
   "cell_type": "code",
   "execution_count": 2,
   "id": "95210716",
   "metadata": {},
   "outputs": [],
   "source": [
    "import numpy as np"
   ]
  },
  {
   "cell_type": "code",
   "execution_count": 2,
   "id": "9174a608",
   "metadata": {},
   "outputs": [],
   "source": [
    "#Задание 1"
   ]
  },
  {
   "cell_type": "code",
   "execution_count": 3,
   "id": "63b1aad4",
   "metadata": {},
   "outputs": [
    {
     "name": "stdout",
     "output_type": "stream",
     "text": [
      "[12 13 14 15 16 17 18 19 20 21 22 23]\n"
     ]
    }
   ],
   "source": [
    "a = np.arange(12,24)\n",
    "print(a)"
   ]
  },
  {
   "cell_type": "code",
   "execution_count": 4,
   "id": "7be1d1fc",
   "metadata": {},
   "outputs": [],
   "source": [
    "#Задание 2"
   ]
  },
  {
   "cell_type": "code",
   "execution_count": 14,
   "id": "2649fa16",
   "metadata": {},
   "outputs": [
    {
     "name": "stdout",
     "output_type": "stream",
     "text": [
      "[[12 13 14 15]\n",
      " [16 17 18 19]\n",
      " [20 21 22 23]]\n",
      "[[12 13 14 15 16 17]\n",
      " [18 19 20 21 22 23]]\n",
      "[[12 13 14]\n",
      " [15 16 17]\n",
      " [18 19 20]\n",
      " [21 22 23]]\n",
      "[[12 13]\n",
      " [14 15]\n",
      " [16 17]\n",
      " [18 19]\n",
      " [20 21]\n",
      " [22 23]]\n",
      "[[12]\n",
      " [13]\n",
      " [14]\n",
      " [15]\n",
      " [16]\n",
      " [17]\n",
      " [18]\n",
      " [19]\n",
      " [20]\n",
      " [21]\n",
      " [22]\n",
      " [23]]\n"
     ]
    }
   ],
   "source": [
    "b1 = a.reshape(3,4)\n",
    "print(b1)\n",
    "b2 = a.reshape(2,6)\n",
    "print(b2)\n",
    "b3 = a.reshape(4,3)\n",
    "print(b3)\n",
    "b4 = a.reshape(6,2)\n",
    "print(b4)\n",
    "b5 = a.reshape(12,1)\n",
    "print(b5)\n"
   ]
  },
  {
   "cell_type": "code",
   "execution_count": 7,
   "id": "9839ea1e",
   "metadata": {},
   "outputs": [],
   "source": [
    "#Задание 3"
   ]
  },
  {
   "cell_type": "code",
   "execution_count": 16,
   "id": "99add918",
   "metadata": {},
   "outputs": [
    {
     "name": "stdout",
     "output_type": "stream",
     "text": [
      "[[12 13 14 15]\n",
      " [16 17 18 19]\n",
      " [20 21 22 23]]\n",
      "[[12 13 14 15 16 17]\n",
      " [18 19 20 21 22 23]]\n",
      "[[12 13 14]\n",
      " [15 16 17]\n",
      " [18 19 20]\n",
      " [21 22 23]]\n",
      "[[12 13]\n",
      " [14 15]\n",
      " [16 17]\n",
      " [18 19]\n",
      " [20 21]\n",
      " [22 23]]\n",
      "[[12 13 14 15 16 17 18 19 20 21 22 23]]\n"
     ]
    }
   ],
   "source": [
    "c1 = a.reshape(3,-1)\n",
    "print(c1)\n",
    "c2 = a.reshape(2,-1)\n",
    "print(c2)\n",
    "c3 = a.reshape(4,-1)\n",
    "print(c3)\n",
    "c4 = a.reshape(-1,2)\n",
    "print(c4)\n",
    "c5 = a.reshape(-1,12)\n",
    "print(c5)"
   ]
  },
  {
   "cell_type": "code",
   "execution_count": 17,
   "id": "2b09af6a",
   "metadata": {},
   "outputs": [],
   "source": [
    "#Задание 4"
   ]
  },
  {
   "cell_type": "code",
   "execution_count": 20,
   "id": "f1b4e4e0",
   "metadata": {},
   "outputs": [
    {
     "data": {
      "text/plain": [
       "2"
      ]
     },
     "execution_count": 20,
     "metadata": {},
     "output_type": "execute_result"
    }
   ],
   "source": [
    "#Проверим размерность такого массива при помощи атрибута ndim \n",
    "b5.ndim"
   ]
  },
  {
   "cell_type": "code",
   "execution_count": 21,
   "id": "7bef426f",
   "metadata": {},
   "outputs": [],
   "source": [
    "#Полуечнный результат показывает, что размерность такого массива равна 2 и его нельзя считать одномерным"
   ]
  },
  {
   "cell_type": "code",
   "execution_count": 22,
   "id": "7c1e4886",
   "metadata": {},
   "outputs": [],
   "source": [
    "#Задание 5"
   ]
  },
  {
   "cell_type": "code",
   "execution_count": 3,
   "id": "bb67b7df",
   "metadata": {},
   "outputs": [
    {
     "name": "stdout",
     "output_type": "stream",
     "text": [
      "[[ 0.21493001 -1.20732916 -1.37389066 -0.88536272]\n",
      " [ 1.7978839   1.65829446 -1.37015155  0.49691105]\n",
      " [-0.51216969 -0.62311611  1.32090361  1.35607138]]\n"
     ]
    }
   ],
   "source": [
    "b = np.random.randn(3,4)\n",
    "print(b)"
   ]
  },
  {
   "cell_type": "code",
   "execution_count": 4,
   "id": "936aa7b5",
   "metadata": {},
   "outputs": [
    {
     "data": {
      "text/plain": [
       "12"
      ]
     },
     "execution_count": 4,
     "metadata": {},
     "output_type": "execute_result"
    }
   ],
   "source": [
    "b.size"
   ]
  },
  {
   "cell_type": "code",
   "execution_count": 5,
   "id": "b33327cf",
   "metadata": {},
   "outputs": [
    {
     "name": "stdout",
     "output_type": "stream",
     "text": [
      "[ 0.21493001 -1.20732916 -1.37389066 -0.88536272  1.7978839   1.65829446\n",
      " -1.37015155  0.49691105 -0.51216969 -0.62311611  1.32090361  1.35607138]\n"
     ]
    }
   ],
   "source": [
    "c = b.flatten()\n",
    "print(c)"
   ]
  },
  {
   "cell_type": "code",
   "execution_count": 6,
   "id": "f0ccd594",
   "metadata": {},
   "outputs": [
    {
     "data": {
      "text/plain": [
       "1"
      ]
     },
     "execution_count": 6,
     "metadata": {},
     "output_type": "execute_result"
    }
   ],
   "source": [
    "c.ndim"
   ]
  },
  {
   "cell_type": "code",
   "execution_count": 7,
   "id": "392a6c9c",
   "metadata": {},
   "outputs": [
    {
     "data": {
      "text/plain": [
       "12"
      ]
     },
     "execution_count": 7,
     "metadata": {},
     "output_type": "execute_result"
    }
   ],
   "source": [
    "c.size"
   ]
  },
  {
   "cell_type": "code",
   "execution_count": 27,
   "id": "3c40d296",
   "metadata": {},
   "outputs": [],
   "source": [
    "#Задание 6"
   ]
  },
  {
   "cell_type": "code",
   "execution_count": 28,
   "id": "3d3f93e3",
   "metadata": {},
   "outputs": [
    {
     "name": "stdout",
     "output_type": "stream",
     "text": [
      "[20 18 16 14 12 10  8  6  4  2]\n"
     ]
    }
   ],
   "source": [
    "a = np.arange(20,0,-2)\n",
    "print(a)"
   ]
  },
  {
   "cell_type": "code",
   "execution_count": 29,
   "id": "0dbcf03d",
   "metadata": {},
   "outputs": [],
   "source": [
    "#Задание 7"
   ]
  },
  {
   "cell_type": "code",
   "execution_count": 30,
   "id": "a04c39a5",
   "metadata": {},
   "outputs": [
    {
     "name": "stdout",
     "output_type": "stream",
     "text": [
      "[[20 18 16 14 12 10  8  6  4  2]]\n"
     ]
    }
   ],
   "source": [
    "bb = np.arange(20,1,-2)\n",
    "b = bb.reshape(1,10)\n",
    "print(b)"
   ]
  },
  {
   "cell_type": "code",
   "execution_count": 31,
   "id": "20715048",
   "metadata": {},
   "outputs": [
    {
     "name": "stdout",
     "output_type": "stream",
     "text": [
      "1\n",
      "2\n"
     ]
    }
   ],
   "source": [
    "print(a.ndim)\n",
    "print(b.ndim)\n"
   ]
  },
  {
   "cell_type": "code",
   "execution_count": 32,
   "id": "a54d82f2",
   "metadata": {},
   "outputs": [],
   "source": [
    "#Таким образом, разница массивов a и b в их размерности. Массив a является одномерным, в то время как массив b - двумерным"
   ]
  },
  {
   "cell_type": "code",
   "execution_count": 33,
   "id": "33e7ebca",
   "metadata": {},
   "outputs": [],
   "source": [
    "#Задание 8"
   ]
  },
  {
   "cell_type": "code",
   "execution_count": 38,
   "id": "82610fab",
   "metadata": {},
   "outputs": [],
   "source": [
    "a = np.zeros((2, 2))\n",
    "b = np.ones((3, 2))"
   ]
  },
  {
   "cell_type": "code",
   "execution_count": 39,
   "id": "6e872f1d",
   "metadata": {},
   "outputs": [
    {
     "name": "stdout",
     "output_type": "stream",
     "text": [
      "[[0. 0.]\n",
      " [0. 0.]\n",
      " [1. 1.]\n",
      " [1. 1.]\n",
      " [1. 1.]]\n"
     ]
    }
   ],
   "source": [
    "v = np.vstack((a, b))\n",
    "\n",
    "print(v)"
   ]
  },
  {
   "cell_type": "code",
   "execution_count": 40,
   "id": "f91ce1c7",
   "metadata": {},
   "outputs": [
    {
     "data": {
      "text/plain": [
       "10"
      ]
     },
     "execution_count": 40,
     "metadata": {},
     "output_type": "execute_result"
    }
   ],
   "source": [
    "v.size"
   ]
  },
  {
   "cell_type": "code",
   "execution_count": 41,
   "id": "8a7d31f3",
   "metadata": {},
   "outputs": [],
   "source": [
    "#Задание 9"
   ]
  },
  {
   "cell_type": "code",
   "execution_count": 8,
   "id": "ce003317",
   "metadata": {},
   "outputs": [
    {
     "name": "stdout",
     "output_type": "stream",
     "text": [
      "[ 0  1  2  3  4  5  6  7  8  9 10 11]\n"
     ]
    }
   ],
   "source": [
    "a = np.arange(0,12)\n",
    "print(a)"
   ]
  },
  {
   "cell_type": "code",
   "execution_count": 9,
   "id": "4f8e0ae5",
   "metadata": {},
   "outputs": [
    {
     "name": "stdout",
     "output_type": "stream",
     "text": [
      "[[ 0  1  2]\n",
      " [ 3  4  5]\n",
      " [ 6  7  8]\n",
      " [ 9 10 11]]\n"
     ]
    }
   ],
   "source": [
    "A=a.reshape(4,3)\n",
    "print(A)"
   ]
  },
  {
   "cell_type": "code",
   "execution_count": 10,
   "id": "5c10fb52",
   "metadata": {},
   "outputs": [
    {
     "name": "stdout",
     "output_type": "stream",
     "text": [
      "[[ 0  3  6  9]\n",
      " [ 1  4  7 10]\n",
      " [ 2  5  8 11]]\n"
     ]
    }
   ],
   "source": [
    "At = np.transpose(A)\n",
    "print(At)"
   ]
  },
  {
   "cell_type": "code",
   "execution_count": 11,
   "id": "010fb401",
   "metadata": {},
   "outputs": [
    {
     "name": "stdout",
     "output_type": "stream",
     "text": [
      "[[  5  14  23  32]\n",
      " [ 14  50  86 122]\n",
      " [ 23  86 149 212]\n",
      " [ 32 122 212 302]]\n"
     ]
    }
   ],
   "source": [
    "B = A.dot(At)\n",
    "print(B)"
   ]
  },
  {
   "cell_type": "code",
   "execution_count": 12,
   "id": "57ea9141",
   "metadata": {},
   "outputs": [
    {
     "data": {
      "text/plain": [
       "2"
      ]
     },
     "execution_count": 12,
     "metadata": {},
     "output_type": "execute_result"
    }
   ],
   "source": [
    "B.ndim"
   ]
  },
  {
   "cell_type": "code",
   "execution_count": 13,
   "id": "7d9611f0",
   "metadata": {},
   "outputs": [
    {
     "name": "stdout",
     "output_type": "stream",
     "text": [
      "0.0\n"
     ]
    }
   ],
   "source": [
    "#Найдем определитель матрицы B\n",
    "d = np.linalg.det(B)\n",
    "print(d)"
   ]
  },
  {
   "cell_type": "code",
   "execution_count": 49,
   "id": "6f86be2f",
   "metadata": {},
   "outputs": [],
   "source": [
    "#Определитель равен 0, поэтому обратную матрицу посчитать не получится"
   ]
  },
  {
   "cell_type": "code",
   "execution_count": 50,
   "id": "d2c50221",
   "metadata": {},
   "outputs": [],
   "source": [
    "#Задание 10"
   ]
  },
  {
   "cell_type": "code",
   "execution_count": 14,
   "id": "1b2fae3a",
   "metadata": {},
   "outputs": [],
   "source": [
    "np.random.seed(42)"
   ]
  },
  {
   "cell_type": "code",
   "execution_count": 52,
   "id": "70ab0479",
   "metadata": {},
   "outputs": [],
   "source": [
    "#Задание 11"
   ]
  },
  {
   "cell_type": "code",
   "execution_count": 15,
   "id": "9db560f8",
   "metadata": {},
   "outputs": [
    {
     "name": "stdout",
     "output_type": "stream",
     "text": [
      "[ 6  3 12 14 10  7 12  4  6  9  2  6 10 10  7  4]\n"
     ]
    }
   ],
   "source": [
    "c = np.random.randint(0, 16, 16)\n",
    "\n",
    "print(c)"
   ]
  },
  {
   "cell_type": "code",
   "execution_count": 56,
   "id": "f5e3e702",
   "metadata": {},
   "outputs": [],
   "source": [
    "#Задание 12"
   ]
  },
  {
   "cell_type": "code",
   "execution_count": 16,
   "id": "6a8e7ed2",
   "metadata": {},
   "outputs": [
    {
     "name": "stdout",
     "output_type": "stream",
     "text": [
      "[[ 6  3 12 14]\n",
      " [10  7 12  4]\n",
      " [ 6  9  2  6]\n",
      " [10 10  7  4]]\n"
     ]
    }
   ],
   "source": [
    "C = c.reshape(4,4)\n",
    "print(C)"
   ]
  },
  {
   "cell_type": "code",
   "execution_count": 17,
   "id": "e76b6aa2",
   "metadata": {},
   "outputs": [
    {
     "name": "stdout",
     "output_type": "stream",
     "text": [
      "[[ 65  44 143 172]\n",
      " [114 120 206 162]\n",
      " [ 83 176 169 272]\n",
      " [132 222 282 342]]\n"
     ]
    }
   ],
   "source": [
    "D = B + 10*C\n",
    "print(D)"
   ]
  },
  {
   "cell_type": "code",
   "execution_count": 18,
   "id": "4a8f7119",
   "metadata": {},
   "outputs": [
    {
     "name": "stdout",
     "output_type": "stream",
     "text": [
      "-28511999.999999944\n"
     ]
    }
   ],
   "source": [
    "d = np.linalg.det(D)\n",
    "print(d)"
   ]
  },
  {
   "cell_type": "code",
   "execution_count": 19,
   "id": "1bd9d6aa",
   "metadata": {},
   "outputs": [
    {
     "name": "stdout",
     "output_type": "stream",
     "text": [
      "4\n"
     ]
    }
   ],
   "source": [
    "r = np.linalg.matrix_rank(D)\n",
    "\n",
    "print(r)"
   ]
  },
  {
   "cell_type": "code",
   "execution_count": 20,
   "id": "f8cdc940",
   "metadata": {},
   "outputs": [
    {
     "name": "stdout",
     "output_type": "stream",
     "text": [
      "[[ 0.00935396  0.04486532  0.05897517 -0.07286055]\n",
      " [-0.01503577 -0.00122896 -0.00192971  0.00967873]\n",
      " [-0.00356692 -0.01782828 -0.04152146  0.04326178]\n",
      " [ 0.00909091 -0.00181818  0.01272727 -0.01090909]]\n"
     ]
    }
   ],
   "source": [
    "D_inv = np.linalg.inv(D)\n",
    "\n",
    "print(D_inv)"
   ]
  },
  {
   "cell_type": "code",
   "execution_count": 65,
   "id": "13b588ff",
   "metadata": {},
   "outputs": [],
   "source": [
    "#Задание 13"
   ]
  },
  {
   "cell_type": "code",
   "execution_count": 21,
   "id": "a547c5cf",
   "metadata": {},
   "outputs": [
    {
     "name": "stdout",
     "output_type": "stream",
     "text": [
      "[[1 1 1 0]\n",
      " [0 0 0 1]\n",
      " [0 0 0 1]\n",
      " [1 0 1 0]]\n"
     ]
    }
   ],
   "source": [
    "a, b = 0, 1\n",
    "D_inv = (D_inv > a) * b\n",
    "print(D_inv)"
   ]
  },
  {
   "cell_type": "code",
   "execution_count": 22,
   "id": "b8f73048",
   "metadata": {},
   "outputs": [
    {
     "name": "stdout",
     "output_type": "stream",
     "text": [
      "[[  5  14  23  32]\n",
      " [ 14  50  86 122]\n",
      " [ 23  86 149 212]\n",
      " [ 32 122 212 302]]\n",
      "[[ 6  3 12 14]\n",
      " [10  7 12  4]\n",
      " [ 6  9  2  6]\n",
      " [10 10  7  4]]\n"
     ]
    }
   ],
   "source": [
    "print(B)\n",
    "print(C)"
   ]
  },
  {
   "cell_type": "code",
   "execution_count": 23,
   "id": "44adb4e4",
   "metadata": {},
   "outputs": [
    {
     "name": "stdout",
     "output_type": "stream",
     "text": [
      "[[  5  14  23  14]\n",
      " [ 10   7  12 122]\n",
      " [  6   9   2 212]\n",
      " [ 32  10 212   4]]\n"
     ]
    }
   ],
   "source": [
    "E = np.where(D_inv == 1, B, C)\n",
    "\n",
    "print(E)"
   ]
  },
  {
   "cell_type": "code",
   "execution_count": null,
   "id": "e30ca589",
   "metadata": {},
   "outputs": [],
   "source": []
  }
 ],
 "metadata": {
  "kernelspec": {
   "display_name": "Python 3",
   "language": "python",
   "name": "python3"
  },
  "language_info": {
   "codemirror_mode": {
    "name": "ipython",
    "version": 3
   },
   "file_extension": ".py",
   "mimetype": "text/x-python",
   "name": "python",
   "nbconvert_exporter": "python",
   "pygments_lexer": "ipython3",
   "version": "3.8.8"
  }
 },
 "nbformat": 4,
 "nbformat_minor": 5
}
